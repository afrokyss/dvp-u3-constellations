{
  "nbformat": 4,
  "nbformat_minor": 0,
  "metadata": {
    "colab": {
      "name": "spread_covid_in_africa.ipynb",
      "provenance": [],
      "private_outputs": true,
      "mount_file_id": "1bvzFEq1Tjh7-JUTGvNtrDDIoqOBgHoRc",
      "authorship_tag": "ABX9TyMSwMeioe0bEUu22hMNBkHp",
      "include_colab_link": true
    },
    "kernelspec": {
      "name": "python3",
      "display_name": "Python 3"
    }
  },
  "cells": [
    {
      "cell_type": "markdown",
      "metadata": {
        "id": "view-in-github",
        "colab_type": "text"
      },
      "source": [
        "<a href=\"https://colab.research.google.com/github/afrokyss/dvp-u3-constellations/blob/master/spread_covid_in_africa.ipynb\" target=\"_parent\"><img src=\"https://colab.research.google.com/assets/colab-badge.svg\" alt=\"Open In Colab\"/></a>"
      ]
    },
    {
      "cell_type": "markdown",
      "metadata": {
        "id": "qcT1q8NfnSk6",
        "colab_type": "text"
      },
      "source": [
        "# African covid spread predictions in Africa **Project**\n",
        "\n",
        "![Texte alternatif…](https://www.iapb.org/wp-content/uploads/covid-19-french-900x511-1.jpg)"
      ]
    },
    {
      "cell_type": "markdown",
      "metadata": {
        "id": "K03gXAwFpg4s",
        "colab_type": "text"
      },
      "source": [
        "#### In this project we will try to create a model to predict the diffusion of `Covid-19 in Africa`. The collected data and predictions will be integrated into a web application.\n",
        "\n",
        "### The data used will come from the `Oxford University` website [ourworldindata.org](https://github.com/owid/covid-19-data/blob/master/public/data/owid-covid-data.csv) as `main dataframe` and from [John Hopkins University](https://raw.githubusercontent.com/CSSEGISandData/COVID-19/master/csse_covid_19_data/csse_covid_19_time_series/time_series_covid19_recovered_global.csv) for `recovered cases`.\n",
        "\n",
        "### We plan to eventually include data sets from other sources in order to add features. \n"
      ]
    },
    {
      "cell_type": "markdown",
      "metadata": {
        "id": "TJS0TV9zh3kY",
        "colab_type": "text"
      },
      "source": [
        "### Preprocessing and datasets transformation"
      ]
    },
    {
      "cell_type": "code",
      "metadata": {
        "id": "I8M0ZHHRm6dI",
        "colab_type": "code",
        "colab": {}
      },
      "source": [
        "# import usual labrairies \n",
        "\n",
        "import pandas as pd\n",
        "import datetime \n",
        "\n",
        "\n",
        "# import vizual librairies\n",
        "import matplotlib.pyplot as plt\n",
        "%matplotlib inline\n",
        "import seaborn as sns\n",
        "import plotly.express as px\n",
        "import plotly.graph_objects as go\n",
        "import folium \n",
        "from folium import plugins\n",
        "\n",
        "\n",
        "\n",
        "# manipulating the default plot size\n",
        "plt.rcParams['figure.figsize']=10, 12\n",
        "\n",
        "# disable warning\n",
        "import warnings\n",
        "warnings.filterwarnings('ignore')\n",
        "\n"
      ],
      "execution_count": null,
      "outputs": []
    },
    {
      "cell_type": "markdown",
      "metadata": {
        "id": "G-RhYdvgndgf",
        "colab_type": "text"
      },
      "source": [
        "### Load datasets"
      ]
    },
    {
      "cell_type": "code",
      "metadata": {
        "id": "z1wOebynnCAL",
        "colab_type": "code",
        "colab": {}
      },
      "source": [
        "# load our datasets\n",
        "\n",
        "url = 'https://raw.githubusercontent.com/owid/covid-19-data/master/public/data/owid-covid-data.csv'\n",
        "url_recovered = 'https://raw.githubusercontent.com/CSSEGISandData/COVID-19/master/csse_covid_19_data/csse_covid_19_time_series/time_series_covid19_recovered_global.csv'\n",
        "\n",
        "corona_word_df = pd.read_csv(url)\n",
        "df_recovered = pd.read_csv(url_recovered)\n",
        "\n"
      ],
      "execution_count": null,
      "outputs": []
    },
    {
      "cell_type": "markdown",
      "metadata": {
        "id": "lA6Z7aQVuzch",
        "colab_type": "text"
      },
      "source": [
        "I already created a dataset with the 5 regions of Africa with the `Oxford` dataset\n",
        "'/content/data/african_regions.csv'"
      ]
    },
    {
      "cell_type": "code",
      "metadata": {
        "id": "TyRXoCgwJFD2",
        "colab_type": "code",
        "colab": {}
      },
      "source": [
        "df_regions = pd.read_csv('/content/data/african_regions.csv')"
      ],
      "execution_count": null,
      "outputs": []
    },
    {
      "cell_type": "markdown",
      "metadata": {
        "id": "5wU0OAYG5_22",
        "colab_type": "text"
      },
      "source": [
        "## preprocess 1"
      ]
    },
    {
      "cell_type": "code",
      "metadata": {
        "id": "w0z7IWk9xDL9",
        "colab_type": "code",
        "colab": {}
      },
      "source": [
        "corona_word_df.head()"
      ],
      "execution_count": null,
      "outputs": []
    },
    {
      "cell_type": "code",
      "metadata": {
        "id": "_VFrmAThcX4L",
        "colab_type": "code",
        "colab": {}
      },
      "source": [
        "# let's keep only african countries\n",
        "africa_covid_df = corona_word_df[corona_word_df['continent']=='Africa']\n",
        "\n",
        "#merge regions in africa dataset\n",
        "africa_covid_df = pd.merge(africa_covid_df, df_regions, how='inner', on=['location'])\n",
        "\n",
        "#reorder new column function\n",
        "def reorder_col(col_1, col_2, df):\n",
        "  old_columns = [x for x in df.columns if x not in [col_1]]\n",
        "  insert_index = old_columns.index(col_2)+1\n",
        "  df = df[old_columns[:insert_index] + [col_1] + old_columns[insert_index:]]\n",
        "  return df\n",
        "\n",
        "africa_covid_df = reorder_col('region', 'continent', africa_covid_df)\n",
        "\n",
        "#drop continent\n",
        "africa_covid_df = africa_covid_df.drop(columns=['continent'], axis= 1)\n",
        "\n",
        "\n"
      ],
      "execution_count": null,
      "outputs": []
    },
    {
      "cell_type": "code",
      "metadata": {
        "id": "FunC43I3oVFK",
        "colab_type": "code",
        "colab": {}
      },
      "source": [
        "africa_covid_df = africa_covid_df.sort_values(['location', 'date'])"
      ],
      "execution_count": null,
      "outputs": []
    },
    {
      "cell_type": "code",
      "metadata": {
        "id": "YnUqOTVY_xOM",
        "colab_type": "code",
        "colab": {}
      },
      "source": [
        "\n",
        "#drop unless date rows to start just before the first case in africa\n",
        "africa_covid_df = africa_covid_df[~(africa_covid_df['date'].isin(['2019-12-31', '2020-01-01', '2020-01-02', '2020-01-03', '2020-01-04', '2020-01-05', '2020-01-06', '2020-01-07', '2020-01-08', '2020-01-09', '2020-01-10', '2020-01-11', '2020-01-12', '2020-01-13', '2020-01-14', '2020-01-15', '2020-01-16', '2020-01-17', '2020-01-18', '2020-01-19', '2020-01-20', '2020-01-21', '2020-01-22', '2020-01-23', '2020-01-25', '2020-01-24', '2020-01-26', '2020-01-27', '2020-01-28', '2020-01-29', '2020-01-30', '2020-01-31','2020-02-01', '2020-02-02', '2020-02-03', '2020-02-04',\n",
        "       '2020-02-05', '2020-02-06', '2020-02-07', '2020-02-08',\n",
        "       '2020-02-09', '2020-02-10']))]\n"
      ],
      "execution_count": null,
      "outputs": []
    },
    {
      "cell_type": "markdown",
      "metadata": {
        "id": "j7YobZKKylVW",
        "colab_type": "text"
      },
      "source": [
        "#### I add the positive rate based on new_tests and new cases. For the moment this column is not very useful because a lot of data on testing in Africa is missing. It will be necessary to enrich the dataset as we go along."
      ]
    },
    {
      "cell_type": "code",
      "metadata": {
        "id": "fE4Z_SJGaRz9",
        "colab_type": "code",
        "colab": {}
      },
      "source": [
        "#calculate the contamination rate with new_tests and new_tests\n",
        "africa_covid_df['positive_rate'] = round((africa_covid_df['new_cases']/africa_covid_df['new_tests'])*100, 3)"
      ],
      "execution_count": null,
      "outputs": []
    },
    {
      "cell_type": "code",
      "metadata": {
        "id": "mmw_WWRyflN3",
        "colab_type": "code",
        "colab": {}
      },
      "source": [
        "#reorder new column. let's make a function for that\n",
        "africa_covid_df = reorder_col('positive_rate', 'new_deaths', africa_covid_df)"
      ],
      "execution_count": null,
      "outputs": []
    },
    {
      "cell_type": "code",
      "metadata": {
        "id": "UjsRsinSaGWn",
        "colab_type": "code",
        "colab": {}
      },
      "source": [
        "#creat csv file\n",
        "africa_covid_df.to_csv('africa_covid_01.csv', index_label=False)"
      ],
      "execution_count": null,
      "outputs": []
    },
    {
      "cell_type": "markdown",
      "metadata": {
        "id": "RPqGfbN81Mp1",
        "colab_type": "text"
      },
      "source": [
        "# Preprocess II"
      ]
    },
    {
      "cell_type": "code",
      "metadata": {
        "id": "TUvKEWzGM20t",
        "colab_type": "code",
        "colab": {}
      },
      "source": [
        "#let's inspect the recovered cases from the other dataframe\n",
        "\n",
        "df_recovered.head()\n"
      ],
      "execution_count": null,
      "outputs": []
    },
    {
      "cell_type": "code",
      "metadata": {
        "id": "M3mo46Q7PzVe",
        "colab_type": "code",
        "colab": {}
      },
      "source": [
        "# drop unless column\n",
        "df_recovered = df_recovered.drop(columns=['Province/State'])\n",
        "\n",
        "# rename column\n",
        "df_recovered = df_recovered.rename(columns={'Country/Region':'location'})\n",
        "\n",
        "#reshape dataframe\n",
        "df_recovered = df_recovered.melt(id_vars=['location', 'Lat', 'Long'], var_name='date', value_name='recovered')\n",
        "\n",
        "#convert date format\n",
        "df_recovered = df_recovered.assign(date = pd.to_datetime(df_recovered['date'], format='%m/%d/%y'))\n",
        "\n"
      ],
      "execution_count": null,
      "outputs": []
    },
    {
      "cell_type": "code",
      "metadata": {
        "id": "MT83TO_WR9cO",
        "colab_type": "code",
        "colab": {}
      },
      "source": [
        "df_recovered.head()"
      ],
      "execution_count": null,
      "outputs": []
    },
    {
      "cell_type": "markdown",
      "metadata": {
        "id": "u6LJBc4i6tUL",
        "colab_type": "text"
      },
      "source": [
        "##### drop unless date rows to start just before the first case in africa"
      ]
    },
    {
      "cell_type": "code",
      "metadata": {
        "id": "_PnZH-cwq4md",
        "colab_type": "code",
        "colab": {}
      },
      "source": [
        "#drop unless date rows to start just before the first case in africa\n",
        "df_recovered = df_recovered[~(df_recovered['date'].isin(['2020-01-22T00:00:00.000000000', '2020-01-23T00:00:00.000000000',\n",
        "       '2020-01-24T00:00:00.000000000', '2020-01-25T00:00:00.000000000',\n",
        "       '2020-01-26T00:00:00.000000000', '2020-01-27T00:00:00.000000000',\n",
        "       '2020-01-28T00:00:00.000000000', '2020-01-29T00:00:00.000000000',\n",
        "       '2020-01-30T00:00:00.000000000', '2020-01-31T00:00:00.000000000',\n",
        "       '2020-02-01T00:00:00.000000000', '2020-02-02T00:00:00.000000000',\n",
        "       '2020-02-03T00:00:00.000000000', '2020-02-04T00:00:00.000000000',\n",
        "       '2020-02-05T00:00:00.000000000', '2020-02-06T00:00:00.000000000',\n",
        "       '2020-02-07T00:00:00.000000000', '2020-02-08T00:00:00.000000000',\n",
        "       '2020-02-09T00:00:00.000000000', '2020-02-10T00:00:00.000000000'\n",
        "                                                         \n",
        "]))]"
      ],
      "execution_count": null,
      "outputs": []
    },
    {
      "cell_type": "code",
      "metadata": {
        "id": "bjG4tHLzYJ8a",
        "colab_type": "code",
        "colab": {}
      },
      "source": [
        "#remove non african contries\n",
        "\n",
        "df_recovered = df_recovered.loc[~(df_recovered['location'].isin(['Afghanistan', 'Albania', 'Andorra', \n",
        "                                                                 'Antigua and Barbuda', 'Argentina', 'Armenia', \n",
        "                                                                 'Australia', 'Austria', 'Azerbaijan', 'Bahamas', \n",
        "                                                                 'Bahrain', 'Bangladesh', 'Barbados', 'Belarus', \n",
        "                                                                 'Belgium', 'Belize', 'Bhutan', 'Bolivia', \n",
        "                                                                 'Bosnia and Herzegovina', 'Brazil', \n",
        "                                                                 'Brunei', 'Bulgaria', 'Burma', 'Cambodia', \n",
        "                                                                 'Canada', 'Chile', 'China', 'Colombia', \n",
        "                                                                 'Costa Rica', 'Croatia', 'Cuba', 'Cyprus', \n",
        "                                                                 'Czechia', 'Denmark', 'Diamond Princess', \n",
        "                                                                 'Dominica', 'Dominican Republic', 'Ecuador', \n",
        "                                                                 'El Salvador', 'Estonia', 'Fiji', \n",
        "                                                                 'Finland', 'France', 'Georgia', 'Germany', \n",
        "                                                                 'Greece', 'Grenada', 'Guatemala', 'Guyana', \n",
        "                                                                 'Haiti', 'Holy See', 'Honduras', 'Hungary', \n",
        "                                                                 'Iceland', 'India', 'Indonesia', 'Iran', 'Iraq',\n",
        "                                                                 'Ireland', 'Israel', 'Italy', 'Jamaica', 'Japan',\n",
        "                                                                 'Jordan', 'Kazakhstan', 'Kosovo', 'Kuwait','Kyrgyzstan', 'Laos', 'Latvia', 'Lebanon', 'Liechtenstein', 'Lithuania', 'Luxembourg', 'MS Zaandam', 'Malaysia', 'Maldives', 'Malta', 'Mexico', 'Moldova', 'Monaco', 'Mongolia', 'Montenegro', 'Nepal', 'Netherlands', 'New Zealand', 'Nicaragua', 'North Macedonia', 'Norway', 'Oman', 'Pakistan', 'Panama', 'Papua New Guinea', 'Paraguay', 'Peru', 'Philippines', 'Poland', 'Portugal', 'Qatar', 'Romania', 'Russia', 'Saint Kitts and Nevis', 'Saint Lucia', 'Saint Vincent and the Grenadines', 'San Marino', 'Saudi Arabia', 'Serbia', 'Singapore', 'Slovakia', 'Slovenia', 'South Korea', 'Spain', 'Sri Lanka', 'Suriname', 'Sweden', 'Switzerland', 'Syria', 'Taiwan', 'Tajikistan', 'Thailand', 'Timor-Leste', 'Trinidad and Tobago', 'Turkey', 'US', 'Ukraine', 'United Arab Emirates', 'United Kingdom', 'Uruguay', 'Uzbekistan', 'Venezuela', 'Vietnam', 'West Bank and Gaza', 'Yemen']))]\n"
      ],
      "execution_count": null,
      "outputs": []
    },
    {
      "cell_type": "code",
      "metadata": {
        "id": "yuSPpX0_plEg",
        "colab_type": "code",
        "colab": {}
      },
      "source": [
        "df_recovered.head()"
      ],
      "execution_count": null,
      "outputs": []
    },
    {
      "cell_type": "code",
      "metadata": {
        "id": "3XNMSbdqcdV8",
        "colab_type": "code",
        "colab": {}
      },
      "source": [
        "#rename some values with countries name diff from other dataset\n",
        "\n",
        "df_recovered['location'] = df_recovered['location'].replace('Cabo Verde', 'Cape Verde')\n",
        "df_recovered['location'] = df_recovered['location'].replace('Congo (Brazzaville)', 'Congo')\n",
        "df_recovered['location'] = df_recovered['location'].replace('Congo (Kinshasa)', 'Democratic Republic of Congo')\n",
        "df_recovered['location'] = df_recovered['location'].replace('Eswatini', 'Swaziland')"
      ],
      "execution_count": null,
      "outputs": []
    },
    {
      "cell_type": "code",
      "metadata": {
        "id": "QTUoPXEMuV2e",
        "colab_type": "code",
        "colab": {}
      },
      "source": [
        "#merge with african regions\n",
        "df_recovered = pd.merge(df_recovered, df_regions, how='inner', on=['location'])"
      ],
      "execution_count": null,
      "outputs": []
    },
    {
      "cell_type": "code",
      "metadata": {
        "id": "Sa8q4V_CuBax",
        "colab_type": "code",
        "colab": {}
      },
      "source": [
        "#create new_recovered column\n",
        "df_recovered_all_new = (df_recovered\n",
        "                        .sort_values(by=['date', 'location'])\n",
        "                        .filter(['location','Lat', 'Long' 'date', 'recovered','region'])\n",
        "                        .groupby('location')\n",
        "                        .recovered\n",
        "                        .diff()\n",
        "                    )\n",
        "df_recovered = df_recovered.assign(new_recovered = df_recovered_all_new)\n",
        "\n",
        "#reorder col\n",
        "df_recovered = reorder_col('region', 'location', df_recovered)"
      ],
      "execution_count": null,
      "outputs": []
    },
    {
      "cell_type": "code",
      "metadata": {
        "id": "F47T1sFAvXUd",
        "colab_type": "code",
        "colab": {}
      },
      "source": [
        "df_recovered.head()"
      ],
      "execution_count": null,
      "outputs": []
    },
    {
      "cell_type": "code",
      "metadata": {
        "id": "5Xfm8iQ6v3nv",
        "colab_type": "code",
        "colab": {}
      },
      "source": [
        "#create a csv\n",
        "df_recovered.to_csv('africa_recovered.csv', index_label=False)"
      ],
      "execution_count": null,
      "outputs": []
    },
    {
      "cell_type": "markdown",
      "metadata": {
        "id": "Gx8Uutj3LHFt",
        "colab_type": "text"
      },
      "source": [
        "# Merge de datasets"
      ]
    },
    {
      "cell_type": "code",
      "metadata": {
        "id": "fpNzN43Z14vK",
        "colab_type": "code",
        "colab": {}
      },
      "source": [
        "# convert date to object format\n",
        "df_recovered['date'] = df_recovered['date'].astype(str)"
      ],
      "execution_count": null,
      "outputs": []
    },
    {
      "cell_type": "code",
      "metadata": {
        "id": "n6QdgkYcdISu",
        "colab_type": "code",
        "colab": {}
      },
      "source": [
        "#merge the datasets\n",
        "df_covid_merged = (africa_covid_df.merge(df_recovered, on = ['location','region','date'], how = 'left'))\n"
      ],
      "execution_count": null,
      "outputs": []
    },
    {
      "cell_type": "code",
      "metadata": {
        "id": "fOk561AliJSc",
        "colab_type": "code",
        "colab": {}
      },
      "source": [
        "#reorder cols\n",
        "old_columns = [x for x in df_covid_merged.columns if x not in ['Lat', 'Long']]\n",
        "insert_index = old_columns.index('iso_code') + 1\n",
        "df_covid_merged = df_covid_merged[old_columns[:insert_index] + ['Lat', 'Long'] + old_columns[insert_index:]]\n",
        "\n",
        "old_columns = [x for x in df_covid_merged.columns if x not in ['recovered', 'new_recovered']]\n",
        "insert_index = old_columns.index('new_deaths') + 1\n",
        "df_covid_merged = df_covid_merged[old_columns[:insert_index] + ['recovered', 'new_recovered'] + old_columns[insert_index:]]"
      ],
      "execution_count": null,
      "outputs": []
    },
    {
      "cell_type": "markdown",
      "metadata": {
        "id": "xYZkfV6QMLqI",
        "colab_type": "text"
      },
      "source": [
        "#### Let's add a positive rate col"
      ]
    },
    {
      "cell_type": "code",
      "metadata": {
        "id": "7CIjO-TrAHOp",
        "colab_type": "code",
        "colab": {}
      },
      "source": [
        "# let's finish this first part by adding active cases\n",
        "\n",
        "df_covid_merged['active_cases'] = df_covid_merged['total_cases'] - df_covid_merged['total_deaths'] - df_covid_merged['recovered'] "
      ],
      "execution_count": null,
      "outputs": []
    },
    {
      "cell_type": "code",
      "metadata": {
        "id": "hcn9klt2CM82",
        "colab_type": "code",
        "colab": {}
      },
      "source": [
        "# reorder col\n",
        "df_covid_merged = reorder_col('active_cases', 'date', df_covid_merged)"
      ],
      "execution_count": null,
      "outputs": []
    },
    {
      "cell_type": "code",
      "metadata": {
        "id": "vLMIoTZEMiwB",
        "colab_type": "code",
        "colab": {}
      },
      "source": [
        "df_covid_merged.head()"
      ],
      "execution_count": null,
      "outputs": []
    },
    {
      "cell_type": "code",
      "metadata": {
        "id": "dgRgU5LiM190",
        "colab_type": "code",
        "colab": {}
      },
      "source": [
        "#convert date\n",
        "df_covid_merged = df_covid_merged.assign(date = pd.to_datetime(df_covid_merged['date']))\n"
      ],
      "execution_count": null,
      "outputs": []
    },
    {
      "cell_type": "code",
      "metadata": {
        "id": "8eEORdE_O4Ag",
        "colab_type": "code",
        "colab": {}
      },
      "source": [
        "df_covid_merged.head()"
      ],
      "execution_count": null,
      "outputs": []
    },
    {
      "cell_type": "code",
      "metadata": {
        "id": "uwQVQj_lC0Jc",
        "colab_type": "code",
        "colab": {}
      },
      "source": [
        "df_covid_merged.to_csv('african_covid_spread.csv', index_label=False)"
      ],
      "execution_count": null,
      "outputs": []
    },
    {
      "cell_type": "code",
      "metadata": {
        "id": "kjh3lDZBDpLI",
        "colab_type": "code",
        "colab": {}
      },
      "source": [
        ""
      ],
      "execution_count": null,
      "outputs": []
    }
  ]
}